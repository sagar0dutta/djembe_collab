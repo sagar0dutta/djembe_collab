{
 "cells": [
  {
   "cell_type": "code",
   "execution_count": 1,
   "metadata": {},
   "outputs": [],
   "source": [
    "import os\n",
    "import pickle\n",
    "import numpy as np\n",
    "import pandas as pd\n",
    "import onset_calculations as onset_calc\n",
    "import matplotlib.pyplot as plt"
   ]
  },
  {
   "cell_type": "code",
   "execution_count": null,
   "metadata": {},
   "outputs": [],
   "source": [
    "OnsetProcessor = onset_calc.OnsetProcessor()\n",
    "\n",
    "def read_data(select_idx, mode):\n",
    "    # Feel free to customize this function as per your needs\n",
    "    \n",
    "    filelist = os.listdir(f\"./Dataset_V2\")\n",
    "    filename = filelist[select_idx]\n",
    "        \n",
    "    pickle_path = f'./motion_data_pkl/{filename.replace(\"_Dancers.csv\", \"_T.pkl\")}'\n",
    "        \n",
    "    if os.path.isfile(pickle_path):\n",
    "        with open(pickle_path, 'rb') as file:\n",
    "            motion_data = pickle.load(file)\n",
    "\n",
    "    fname = filename.replace(\"_Dancers.csv\", \"_T\")\n",
    "    onset_filename = filename.replace(\"_Dancers.csv\", \".csv\")\n",
    "    danceanno_filename = filename\n",
    "    mcycle_filename = filename.replace(\"_Dancers.csv\", \"_C.csv\")\n",
    "\n",
    "    drum_onsets_path = f\"./drum_onsets/{onset_filename}\"\n",
    "    dance_anno_path = f\"./Dataset_V2/{danceanno_filename}\"\n",
    "    mcycle_path = f\"./virtual_cycles/{mcycle_filename}\"\n",
    "\n",
    "    # Load Djembe drum onsets\n",
    "    drum_df = pd.read_csv(drum_onsets_path)\n",
    "    # column_b = drum_df[\"J2\"].dropna()\n",
    "    # drum_onsets = column_b.to_numpy()\n",
    "\n",
    "    # Load dance annotations\n",
    "    dance_annotation_df = pd.read_csv(dance_anno_path)\n",
    "    category_df = dance_annotation_df.groupby('mocap')\n",
    "    category_df = category_df.get_group(mode)\n",
    "    category_df = category_df.reset_index(drop=True)\n",
    "\n",
    "    # Load meter cycle onsets\n",
    "    df_metric = pd.read_csv(mcycle_path)\n",
    "    loaded_mcycle_onsets = df_metric[\"Virtual Onset\"].to_numpy()\n",
    "    bpm_values = np.round(df_metric[\"bpm\"].to_numpy(), 3)\n",
    "\n",
    "    section_data = OnsetProcessor.onset_calculations(category_df, loaded_mcycle_onsets)\n",
    "\n",
    "\n",
    "    return fname, motion_data, drum_df, category_df, df_metric, section_data, bpm_values"
   ]
  },
  {
   "cell_type": "markdown",
   "metadata": {},
   "source": [
    "### Read data"
   ]
  },
  {
   "cell_type": "code",
   "execution_count": null,
   "metadata": {},
   "outputs": [],
   "source": [
    "select_idx = 3      # Choose any idx number (of 47) to access a piece from the file list\n",
    "mode = \"in\"         # in: individual dance, gr: group dance, au: dancer in audience\n",
    "fname, motion_data, drum_df, dance_annotation_df, metric_df, section_data, bpm_values = read_data(select_idx, mode)"
   ]
  },
  {
   "cell_type": "markdown",
   "metadata": {},
   "source": [
    "### Djembe drum onsets"
   ]
  },
  {
   "cell_type": "code",
   "execution_count": null,
   "metadata": {},
   "outputs": [],
   "source": [
    "# Djembe drum onsets: DunDun, Djembe1, Djembe 2\n",
    "drum_df.head()"
   ]
  },
  {
   "cell_type": "markdown",
   "metadata": {},
   "source": [
    "### Dance annotation"
   ]
  },
  {
   "cell_type": "code",
   "execution_count": null,
   "metadata": {},
   "outputs": [],
   "source": [
    "# Each row is termed as a \"Section\",\n",
    "dance_annotation_df"
   ]
  },
  {
   "cell_type": "markdown",
   "metadata": {},
   "source": [
    "### Metric cycle"
   ]
  },
  {
   "cell_type": "code",
   "execution_count": null,
   "metadata": {},
   "outputs": [],
   "source": [
    "metric_df.head()"
   ]
  },
  {
   "cell_type": "markdown",
   "metadata": {},
   "source": [
    "### Metadata and onset data"
   ]
  },
  {
   "cell_type": "code",
   "execution_count": null,
   "metadata": {},
   "outputs": [],
   "source": [
    "# This part extracts relevannt data from the dance_annotation_df and metric_df for a section in dance_annotation_df\n",
    "\n",
    "\n",
    "section_idx = 2  # Replace with the index you need from the dance_annotation_df table\n",
    "\n",
    "section = section_data[section_idx]\n",
    "section_name, section_info = list(section.items())[0]\n",
    "\n",
    "# Access metadata and onset data\n",
    "section_meta_data = section_info[\"section_meta_data\"]\n",
    "section_onset_data = section_info[\"section_onset_data\"]\n",
    "\n",
    "# Unpack metadata\n",
    "start_timestamp = section_meta_data[\"start_timestamp\"]\n",
    "end_timestamp = section_meta_data[\"end_timestamp\"]\n",
    "category = section_meta_data[\"category\"]\n",
    "start_sec = section_meta_data[\"start\"]\n",
    "end_sec = section_meta_data[\"end\"]\n",
    "duration_sec = section_meta_data[\"duration\"]\n",
    "\n",
    "# Unpack onset data\n",
    "cycle_onsets = section_onset_data[\"cycle_onsets\"]\n",
    "total_cycles = section_onset_data[\"total_blocks\"]\n",
    "cycle_period_list = section_onset_data[\"cycle_period_list\"]\n",
    "all_window_onsets = section_onset_data[\"all_window_onsets\"]\n",
    "window_period_list = section_onset_data[\"window_period_list\"]\n",
    "\n",
    "section_start_idx = np.where(np.isclose(metric_df[\"Virtual Onset\"], cycle_onsets[0], atol=1e-6))[0][0]     # use this index to pull values from other columns (ioi etc)\n",
    "section_end_idx = np.where(np.isclose(metric_df[\"Virtual Onset\"], cycle_onsets[-1], atol=1e-6))[0][0]      # use this index to pull values from other columns (ioi etc)\n",
    "section_bpm = metric_df.iloc[section_start_idx+1:section_end_idx+1][\"bpm\"].to_numpy()          # first bpm value --> cycle_onset[n] & cycle_onsets[n-1]\n",
    "\n",
    "print(\"Piece:\", fname)\n",
    "print(f\"Section: {section_name}\")\n",
    "print(f\"Start (sec): {start_sec}\")\n",
    "print(f\"End (sec): {end_sec}\")\n",
    "print(f\"Category: {category}\")\n",
    "print(f\"Duration (sec): {duration_sec}\\n\")\n",
    "\n",
    "print(f\"Cycle Onsets: {cycle_onsets}\\n\")\n",
    "print(f\"Cycle (start, end): {all_window_onsets}\\n\")    # (start, end) onset of each cycle in original time (seconds)\n",
    "print(f\"Cycle Period List: {cycle_period_list}\\n\")     # period = end-start\n",
    "print(f\"BPM: {section_bpm}\\n\")     # period = end-start\n",
    "print(f\"Total Cycles: {total_cycles}\\n\")"
   ]
  },
  {
   "cell_type": "markdown",
   "metadata": {},
   "source": [
    "### Motion Data"
   ]
  },
  {
   "cell_type": "code",
   "execution_count": null,
   "metadata": {},
   "outputs": [],
   "source": [
    "# Segment Names:\n",
    "# 'SEGMENT_PELVIS', 'SEGMENT_L5', 'SEGMENT_L3', 'SEGMENT_T12', 'SEGMENT_T8', \n",
    "# 'SEGMENT_NECK', 'SEGMENT_HEAD', 'SEGMENT_RIGHT_SHOULDER', 'SEGMENT_RIGHT_UPPER_ARM', \n",
    "# 'SEGMENT_RIGHT_FOREARM', 'SEGMENT_RIGHT_HAND', 'SEGMENT_LEFT_SHOULDER', 'SEGMENT_LEFT_UPPER_ARM', \n",
    "# 'SEGMENT_LEFT_FOREARM', 'SEGMENT_LEFT_HAND', 'SEGMENT_RIGHT_UPPER_LEG', 'SEGMENT_RIGHT_LOWER_LEG', \n",
    "# 'SEGMENT_RIGHT_FOOT', 'SEGMENT_RIGHT_TOE', 'SEGMENT_LEFT_UPPER_LEG', 'SEGMENT_LEFT_LOWER_LEG', \n",
    "# 'SEGMENT_LEFT_FOOT', 'SEGMENT_LEFT_TOE'\n",
    "\n",
    "mocap_fps = 240\n",
    "start_f = np.round(start_sec*mocap_fps).astype(int)     # start frame of the current section\n",
    "end_f = np.round(end_sec*mocap_fps).astype(int)         # end frame frame of the current section\n",
    "\n",
    "\n",
    "segment_name = 'SEGMENT_RIGHT_HAND'\n",
    "\n",
    "# Accessing segment data for the selected section in previous step\n",
    "position_data = motion_data['position'][segment_name][start_f:end_f,:]                                  # numpy array, size (n,3)\n",
    "velocity_data = motion_data['velocity'][segment_name][start_f:end_f,:]                                  # numpy array, size (n,3)  \n",
    "acceleration_data = motion_data['acceleration'][segment_name][start_f:end_f,:]                          # numpy array, size (n,3)\n",
    "orientation_data = motion_data['orientation'][segment_name][start_f:end_f,:]                          # numpy array, size (n,3)\n",
    "angular_velocity_data = motion_data['angular_velocity'][segment_name][start_f:end_f,:]                # numpy array, size (n,3)\n",
    "angular_accelaration_data = motion_data['angular_accelaration'][segment_name][start_f:end_f,:]        # numpy array, size (n,3)\n",
    "sensor_orientation = motion_data['sensor_orientation'][segment_name][start_f:end_f,:]                 # numpy array, size (n,3)\n",
    "\n",
    "# Accessing axes data\n",
    "position_data_X = motion_data['velocity'][segment_name][:,0]    # X-axis, 1d numpy array   \n",
    "position_data_Y = motion_data['position'][segment_name][:,1]    # Y-axis\n",
    "position_data_Z = motion_data['position'][segment_name][:,2]    # Z-axis\n",
    "\n",
    "time_axis = np.arange(len(position_data))/mocap_fps     # for plotting"
   ]
  },
  {
   "cell_type": "code",
   "execution_count": null,
   "metadata": {},
   "outputs": [],
   "source": [
    "plt.figure(figsize=(40, 6), dpi=200)\n",
    "plt.plot(position_data_X[start_f:end_f] )"
   ]
  },
  {
   "cell_type": "markdown",
   "metadata": {},
   "source": [
    "### Load CSV file for the selected piece"
   ]
  },
  {
   "cell_type": "code",
   "execution_count": null,
   "metadata": {},
   "outputs": [],
   "source": [
    "# Example code snippet to load csv files from the results folder\n",
    "\n",
    "# Change path and filename here to access different onset csv file\n",
    "feet_onsets_path = f\"./extracted_data/{fname}/onset_info/{fname}_both_feet_onsets.csv\"\n",
    "hand_onsets_path = f\"./extracted_data/{fname}/onset_info/{fname}_both_hand_onsets.csv\"\n",
    "\n",
    "feet_onset_df = pd.read_csv(feet_onsets_path, usecols=[0])      # onsets from both feet combined\n",
    "hand_onset_df = pd.read_csv(hand_onsets_path, usecols=[0])      # # onsets from both hand combined\n",
    "\n",
    "print(\"Extracted onsets for section\", section_idx)\n",
    "feet_onset_df"
   ]
  },
  {
   "cell_type": "markdown",
   "metadata": {},
   "source": [
    "### Normalized onsets per cycles for all the sections"
   ]
  },
  {
   "cell_type": "code",
   "execution_count": null,
   "metadata": {},
   "outputs": [],
   "source": [
    "# Loading pickle files from the modes sub folder inside the main piece folder\n",
    "\n",
    "p= f\"./extracted_data/{fname}/{mode}/{fname}_Both_Feet_Onsets_section_cycles.pkl\"\n",
    "with open(p, 'rb') as file:\n",
    "    c_data = pickle.load(file)\n",
    "\n",
    "c_data[1]\n",
    "# Each pickle file when loaded is a list that contains a list of arrays for each section, with each array representing the normalized onsets for a cycle.\n",
    "# c_data[0] is for section 1\n",
    "# c_data[1] is for section 2, and so on"
   ]
  },
  {
   "cell_type": "markdown",
   "metadata": {},
   "source": [
    "### Calculate beat onsets"
   ]
  },
  {
   "cell_type": "code",
   "execution_count": null,
   "metadata": {},
   "outputs": [],
   "source": [
    "def calculate_beat_onsets(cycle_onsets):\n",
    "        beat_ref = []\n",
    "        for i in range(len(cycle_onsets) - 1):\n",
    "            start = cycle_onsets[i]\n",
    "            end = cycle_onsets[i + 1]\n",
    "            # Generate beat onsets by dividing the interval into 4 equal parts\n",
    "            beat_onsets = np.linspace(start, end, num=5)[:-1]\n",
    "            beat_ref.extend(beat_onsets)\n",
    "        return np.round(np.array(beat_ref), 3)\n",
    "    \n",
    "beat_ref = calculate_beat_onsets(cycle_onsets)\n",
    "beat_ref\n",
    "(253.751, 254.783)"
   ]
  }
 ],
 "metadata": {
  "kernelspec": {
   "display_name": "base",
   "language": "python",
   "name": "python3"
  },
  "language_info": {
   "codemirror_mode": {
    "name": "ipython",
    "version": 3
   },
   "file_extension": ".py",
   "mimetype": "text/x-python",
   "name": "python",
   "nbconvert_exporter": "python",
   "pygments_lexer": "ipython3",
   "version": "3.12.2"
  }
 },
 "nbformat": 4,
 "nbformat_minor": 2
}
